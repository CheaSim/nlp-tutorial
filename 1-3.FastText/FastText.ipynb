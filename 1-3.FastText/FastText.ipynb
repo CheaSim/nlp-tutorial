{
  "nbformat": 4,
  "nbformat_minor": 0,
  "metadata": {
    "colab": {
      "name": "FastText.ipynb",
      "version": "0.3.2",
      "provenance": [],
      "collapsed_sections": []
    },
    "kernelspec": {
      "name": "python3",
      "display_name": "Python 3"
    },
    "accelerator": "GPU"
  },
  "cells": [
    {
      "metadata": {
        "id": "kg9kgMnGqYkU",
        "colab_type": "text"
      },
      "cell_type": "markdown",
      "source": [
        "## Install [FastText](https://fasttext.cc/docs/en/supervised-tutorial.html)"
      ]
    },
    {
      "metadata": {
        "id": "3Iod5UKTqZnC",
        "colab_type": "code",
        "colab": {
          "base_uri": "https://localhost:8080/",
          "height": 11051
        },
        "outputId": "b10c85c0-c4cf-4f0b-a30e-2207ae4512b2"
      },
      "cell_type": "code",
      "source": [
        "!wget https://github.com/facebookresearch/fastText/archive/0.2.0.zip\n",
        "!unzip 0.2.0.zip\n",
        "%cd fastText-0.2.0\n",
        "!make"
      ],
      "execution_count": null,
      "outputs": []
    },
    {
      "metadata": {
        "id": "5JauDviyqqL-",
        "colab_type": "text"
      },
      "cell_type": "markdown",
      "source": [
        "## Make simple dataset"
      ]
    },
    {
      "metadata": {
        "id": "ALMQ3gjFqqZS",
        "colab_type": "code",
        "colab": {}
      },
      "cell_type": "code",
      "source": [
        "# 1 is positive, 0 is negative\n",
        "f = open('train.txt', 'w')\n",
        "f.write('__label__1 i love you\\n')\n",
        "f.write('__label__1 he loves me\\n')\n",
        "f.write('__label__1 she likes baseball\\n')\n",
        "f.write('__label__0 i hate you\\n')\n",
        "f.write('__label__0 sorry for that\\n')\n",
        "f.write('__label__0 this is awful')\n",
        "f.close()\n",
        "\n",
        "f = open('test.txt', 'w')\n",
        "f.write('sorry hate you')\n",
        "f.close()"
      ],
      "execution_count": null,
      "outputs": []
    },
    {
      "metadata": {
        "id": "i3_PpexwsN_a",
        "colab_type": "text"
      },
      "cell_type": "markdown",
      "source": [
        "## Training"
      ]
    },
    {
      "metadata": {
        "id": "q06m76JusOQ8",
        "colab_type": "code",
        "colab": {
          "base_uri": "https://localhost:8080/",
          "height": 92
        },
        "outputId": "4ed3502d-4aec-4d06-cb02-b8392978ce14"
      },
      "cell_type": "code",
      "source": [
        "!./fasttext supervised -input train.txt -output model -dim 2"
      ],
      "execution_count": null,
      "outputs": []
    },
    {
      "metadata": {
        "id": "C77MXO-GsOpi",
        "colab_type": "text"
      },
      "cell_type": "markdown",
      "source": [
        "## Predict"
      ]
    },
    {
      "metadata": {
        "id": "y1yDPCjVsO6x",
        "colab_type": "code",
        "colab": {
          "base_uri": "https://localhost:8080/",
          "height": 36
        },
        "outputId": "8963d7bd-01c8-40b9-e1ee-1446cb1b3454"
      },
      "cell_type": "code",
      "source": [
        "!cat test.txt\n",
        "!./fasttext predict model.bin test.txt"
      ],
      "execution_count": null,
      "outputs": []
    }
  ]
}